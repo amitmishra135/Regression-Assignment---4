{
 "cells": [
  {
   "cell_type": "markdown",
   "id": "79a0609f-a975-4275-9a47-425e30c7516f",
   "metadata": {},
   "source": [
    "Q1. What is Lasso Regression, and how does it differ from other regression techniques?\n",
    "\n",
    "Answer ->"
   ]
  },
  {
   "cell_type": "markdown",
   "id": "4b7db3eb-021c-492a-8c43-c03898d74751",
   "metadata": {},
   "source": [
    "Lasso Regression is a linear regression technique that includes a regularization term (L1 penalty) to constrain the absolute values of \n",
    "the regression coefficients, effectively setting some coefficients to zero. This makes it different from other regression techniques like \n",
    "ordinary least squares (OLS), which do not perform any regularization, and Ridge Regression, which uses an L2 penalty and does not set \n",
    "coefficients exactly to zero.\n"
   ]
  },
  {
   "cell_type": "markdown",
   "id": "817df2a2-1660-4348-8146-7765b82f898c",
   "metadata": {},
   "source": [
    "Q2. What is the main advantage of using Lasso Regression in feature selection?\n",
    "\n",
    "Answer ->"
   ]
  },
  {
   "cell_type": "markdown",
   "id": "cb42d59e-4508-48ac-9087-d9356af886ee",
   "metadata": {},
   "source": [
    "The main advantage of using Lasso Regression in feature selection is its ability to shrink some coefficients to exactly zero, \n",
    "thus automatically selecting a simpler model that includes only the most important features.\n"
   ]
  },
  {
   "cell_type": "markdown",
   "id": "2f1d34aa-307c-4664-9129-32cba0c684f0",
   "metadata": {},
   "source": [
    "Q3. How do you interpret the coefficients of a Lasso Regression model?\n",
    "\n",
    "Answer ->"
   ]
  },
  {
   "cell_type": "markdown",
   "id": "96efb991-8172-4da7-a42b-26a733023ad5",
   "metadata": {},
   "source": [
    "The coefficients of a Lasso Regression model represent the relationship between each feature and the target variable, similar to ordinary \n",
    "linear regression. However, coefficients that are exactly zero indicate that those features are not important for the model."
   ]
  },
  {
   "cell_type": "markdown",
   "id": "8a0847cc-8752-4707-8371-9660a689b876",
   "metadata": {},
   "source": [
    "Q4. What are the tuning parameters that can be adjusted in Lasso Regression, and how do they affect the model's performance?\n",
    "\n",
    "Answer ->"
   ]
  },
  {
   "cell_type": "markdown",
   "id": "f4c0fd95-0398-4af9-ae0c-a4449e97dd87",
   "metadata": {},
   "source": [
    "The main tuning parameter in Lasso Regression is the regularization parameter (lambda). Increasing lambda strengthens the penalty, \n",
    "leading to more coefficients being shrunk to zero, which can simplify the model but may also lead to underfitting. Decreasing lambda \n",
    "reduces the penalty, potentially leading to overfitting if the model becomes too complex.\n"
   ]
  },
  {
   "cell_type": "markdown",
   "id": "fccbb3dd-9636-4616-acc0-d0f7c4da3fee",
   "metadata": {},
   "source": [
    "Q5. Can Lasso Regression be used for non-linear regression problems? If yes, how?\n",
    "\n",
    "Answer ->"
   ]
  },
  {
   "cell_type": "markdown",
   "id": "7590abb2-ab68-4234-b76b-93905137e8bd",
   "metadata": {},
   "source": [
    "Yes, Lasso Regression can be used for non-linear regression problems by transforming the input features using polynomial or other basis \n",
    "functions to capture non-linear relationships before applying Lasso.\n"
   ]
  },
  {
   "cell_type": "markdown",
   "id": "0f9bf397-6fcb-4514-8728-d713bdc326c2",
   "metadata": {},
   "source": [
    "Q6. What is the difference between Ridge Regression and Lasso Regression?\n",
    "\n",
    "Answer ->"
   ]
  },
  {
   "cell_type": "markdown",
   "id": "7e97493a-9dd2-46e6-b139-0a7319b614db",
   "metadata": {},
   "source": [
    "The difference between Ridge Regression and Lasso Regression lies in the type of regularization used: Ridge Regression uses an L2 penalty, \n",
    "which shrinks coefficients but does not set any to zero, while Lasso Regression uses an L1 penalty, which can shrink coefficients to zero, \n",
    "effectively performing feature selection.\n"
   ]
  },
  {
   "cell_type": "markdown",
   "id": "1cde04a1-d025-48fe-a80c-b50f3879dabb",
   "metadata": {},
   "source": [
    "Q7. Can Lasso Regression handle multicollinearity in the input features? If yes, how?\n",
    "\n",
    "Answer ->"
   ]
  },
  {
   "cell_type": "markdown",
   "id": "c6bd4a2e-ee06-4f86-8d3c-5e02d90c88e5",
   "metadata": {},
   "source": [
    "Yes, Lasso Regression can handle multicollinearity by shrinking some of the correlated features' coefficients to zero, effectively selecting \n",
    "only one feature from a group of correlated features and reducing redundancy.\n"
   ]
  },
  {
   "cell_type": "markdown",
   "id": "110be4ed-5424-4940-b92e-b82aaf8f8efc",
   "metadata": {},
   "source": [
    "Q8. How do you choose the optimal value of the regularization parameter (lambda) in Lasso Regression?\n",
    "\n",
    "Answer ->"
   ]
  },
  {
   "cell_type": "markdown",
   "id": "0b600bc7-1652-4e98-8903-667a9c851fce",
   "metadata": {},
   "source": [
    "The optimal value of the regularization parameter (lambda) in Lasso Regression is typically chosen using cross-validation, which involves \n",
    "splitting the data into training and validation sets multiple times to find the value that minimizes the validation error."
   ]
  }
 ],
 "metadata": {
  "kernelspec": {
   "display_name": "Python 3 (ipykernel)",
   "language": "python",
   "name": "python3"
  },
  "language_info": {
   "codemirror_mode": {
    "name": "ipython",
    "version": 3
   },
   "file_extension": ".py",
   "mimetype": "text/x-python",
   "name": "python",
   "nbconvert_exporter": "python",
   "pygments_lexer": "ipython3",
   "version": "3.10.8"
  }
 },
 "nbformat": 4,
 "nbformat_minor": 5
}
